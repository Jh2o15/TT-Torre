{
 "cells": [
  {
   "cell_type": "code",
   "execution_count": 103,
   "metadata": {},
   "outputs": [
    {
     "name": "stdout",
     "output_type": "stream",
     "text": [
      "                          JOB__TITLE  2006   30   45  ability  accord  act  \\\n",
      "0                        Commis Chef   1.0  1.0  1.0      1.0     0.0  1.0   \n",
      "1          Corporate Legal Secretary   NaN  NaN  NaN      NaN     NaN  NaN   \n",
      "2                   Warehouse Person   NaN  NaN  NaN      NaN     NaN  NaN   \n",
      "3  Legal Secretary / Admin Assistant   NaN  NaN  NaN      NaN     NaN  NaN   \n",
      "4  Category Planner - Pharmaceutical   NaN  NaN  NaN      NaN     NaN  NaN   \n",
      "\n",
      "   agencies  all  allowance  ...  tenance  thekey  timely  track  uous  \\\n",
      "0       1.0  1.0        1.0  ...      NaN     NaN     NaN    NaN   NaN   \n",
      "1       NaN  2.0        NaN  ...      NaN     NaN     NaN    NaN   NaN   \n",
      "2       NaN  1.0        NaN  ...      NaN     NaN     NaN    NaN   NaN   \n",
      "3       NaN  NaN        NaN  ...      NaN     NaN     NaN    NaN   NaN   \n",
      "4       NaN  6.0        NaN  ...      0.0     0.0     1.0    1.0   0.0   \n",
      "\n",
      "   validation  ven  weekly  weeklyschedules0  write  \n",
      "0         NaN  NaN     NaN               NaN    NaN  \n",
      "1         NaN  NaN     NaN               NaN    NaN  \n",
      "2         NaN  NaN     NaN               NaN    NaN  \n",
      "3         NaN  NaN     NaN               NaN    NaN  \n",
      "4         1.0  0.0     2.0               1.0    1.0  \n",
      "\n",
      "[5 rows x 596 columns]\n"
     ]
    },
    {
     "name": "stderr",
     "output_type": "stream",
     "text": [
      "<ipython-input-103-695c12040f50>:56: SettingWithCopyWarning: \n",
      "A value is trying to be set on a copy of a slice from a DataFrame\n",
      "\n",
      "See the caveats in the documentation: https://pandas.pydata.org/pandas-docs/stable/user_guide/indexing.html#returning-a-view-versus-a-copy\n",
      "  ddf[\"JOB__TITLE\"][idx+1]=df_raw[\"job_title\"][idx]\n"
     ]
    }
   ],
   "source": [
    "import pandas as pd\n",
    "import numpy as np\n",
    "import os\n",
    "from collections import Counter\n",
    "from sklearn.feature_extraction.text import CountVectorizer\n",
    "\n",
    "vector=CountVectorizer()\n",
    "\n",
    "#Codigo para probar con base de datos en linea \n",
    "#df = pd.read_csv('https://query.data.world/s/2a36e7ctpxaaz2ex7t3oxbmsxebakk')\n",
    "#df.head()\n",
    "\n",
    "#code to test in personal pc \n",
    "\n",
    "parent_path=os.path.dirname(os.getcwd())\n",
    "data_path=parent_path+\"/desktop/torre/reed_uk.csv\"\n",
    "\n",
    "df_raw=pd.read_csv(data_path)\n",
    "df_raw=df_raw.head()\n",
    "\n",
    "\n",
    "##Categorization\n",
    "\n",
    "#Look for similar category jobs, for this I would be look for similar descriptions\n",
    "#I will clean the job description in order to vectorizer it and then i am planning to use k-hoods  in order to find\n",
    "#job tittles with similar descriptions \n",
    "\n",
    "#function who cleans the text \n",
    "def clean(x):\n",
    "    x=x.replace(\"apply\",\" \")\n",
    "    x=x.replace(\"now\",\" \")\n",
    "    x=x.replace(\"are\",\" \")\n",
    "    x=x.replace(\"you\",\" \")\n",
    "    x=x.replace(\"this\",\" \")\n",
    "    x=x.replace(\"role\",\" \")\n",
    "    x=x.replace(\"and\",\" \")\n",
    "    x=x.replace(\"job\",\" \")\n",
    "    x=x.replace(\"description\",\" \")\n",
    "    x=x.replace(\"then\",\"\")\n",
    "    x=x.replace(\"to\",\" \")\n",
    "    x=x.replace(\"in\",\" \")\n",
    "    x=x.replace(\"  \",\" \")\n",
    "    x=x.strip()\n",
    "    return x\n",
    "\n",
    "\n",
    "def vect_description(txt):\n",
    "    result = list(map(clean, txt))\n",
    "    vector.fit(result)\n",
    "    vector_count = vector.transform(txt)\n",
    "    return pd.DataFrame(vector_count.sum(0), columns=vector.get_feature_names())\n",
    "\n",
    "\n",
    "def v_text():  \n",
    "    ddf = pd.DataFrame([\"\"],columns=[\"JOB__TITLE\"])\n",
    "    for idx,description in enumerate(df_raw[\"job_description\"]):\n",
    "        txt = [description]\n",
    "        ddf = pd.concat([ddf,vect_description(txt)],ignore_index=True)     \n",
    "        ddf[\"JOB__TITLE\"][idx+1]=df_raw[\"job_title\"][idx]\n",
    "    ddf = ddf.drop(index=0).reset_index().drop(\"index\",axis=1)\n",
    "    return ddf\n",
    "\n",
    "\n",
    "result=v_text()\n",
    "print(result)\n",
    "\n"
   ]
  },
  {
   "cell_type": "code",
   "execution_count": null,
   "metadata": {},
   "outputs": [],
   "source": []
  },
  {
   "cell_type": "code",
   "execution_count": null,
   "metadata": {},
   "outputs": [],
   "source": []
  },
  {
   "cell_type": "code",
   "execution_count": null,
   "metadata": {},
   "outputs": [],
   "source": []
  }
 ],
 "metadata": {
  "kernelspec": {
   "display_name": "Python 3",
   "language": "python",
   "name": "python3"
  },
  "language_info": {
   "codemirror_mode": {
    "name": "ipython",
    "version": 3
   },
   "file_extension": ".py",
   "mimetype": "text/x-python",
   "name": "python",
   "nbconvert_exporter": "python",
   "pygments_lexer": "ipython3",
   "version": "3.8.5"
  }
 },
 "nbformat": 4,
 "nbformat_minor": 4
}
