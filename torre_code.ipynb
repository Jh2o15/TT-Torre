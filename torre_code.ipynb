{
 "cells": [
  {
   "cell_type": "code",
   "execution_count": null,
   "metadata": {},
   "outputs": [],
   "source": [
    "import pandas as pd\n",
    "import numpy as np\n",
    "import os\n",
    "from collections import Counter\n",
    "from sklearn.feature_extraction.text import CountVectorizer\n",
    "\n",
    "vector=CountVectorizer()\n",
    "\n",
    "#Codigo para probar con base de datos en linea \n",
    "#df = pd.read_csv('https://query.data.world/s/2a36e7ctpxaaz2ex7t3oxbmsxebakk')\n",
    "#df.head()\n",
    "\n",
    "#codigo para probar con base de datos en pc\n",
    "\n",
    "parent_path=os.path.dirname(os.getcwd())\n",
    "data_path=parent_path+\"/desktop/torre/reed_uk.csv\"\n",
    "\n",
    "df_raw=pd.read_csv(data_path)\n",
    "df_raw.head()\n",
    "\n",
    "#Look for similar category jobs, for this I would be look for similar descriptions\n",
    "#I will clean the job description in order to vectorizer it and find the close one using euclidian distance \n",
    "\n",
    "#function who cleans the text \n",
    "def clean(x):\n",
    "    x=x.replace(\"apply\",\" \")\n",
    "    x=x.replace(\"now\",\" \")\n",
    "    x=x.replace(\"are\",\" \")\n",
    "    x=x.replace(\"you\",\" \")\n",
    "    x=x.replace(\"this\",\" \")\n",
    "    x=x.replace(\"role\",\" \")\n",
    "    x=x.replace(\"and\",\" \")\n",
    "    x=x.replace(\"job\",\" \")\n",
    "    x=x.replace(\"description\",\" \")\n",
    "    x=x.replace(\"then\",\"\")\n",
    "    x=x.replace(\"to\",\" \")\n",
    "    x=x.replace(\"in\",\" \")\n",
    "    x=x.replace(\"  \",\" \")\n",
    "    x=x.strip()\n",
    "    return x\n",
    "\n",
    "def vect_description(txt):\n",
    "\n",
    "    result=list(map(clean,txt))\n",
    "\n",
    "    vector.fit(result)\n",
    "\n",
    "    vector_count = vector.transform(txt)\n",
    "\n",
    "    return pd.DataFrame(vector_count.sum(0),columns=vector.get_feature_names())\n",
    "    \n",
    "categories=[\"catering jobs\"]\n",
    "\n",
    "df_aux=pd.DataFrame()\n",
    "\n",
    "\n",
    "for category in categories:\n",
    "    for idx,i in enumerate(df_raw[\"category\"]):\n",
    "        if i==category:\n",
    "            txt=[df_raw[\"job_description\"][idx]]\n",
    "            df_aux=pd.concat([df,vect_description(txt)])\n",
    "\n",
    "df_aux.sum(axis=0)\n",
    "\n"
   ]
  },
  {
   "cell_type": "code",
   "execution_count": null,
   "metadata": {},
   "outputs": [],
   "source": [
    "print(Counter(df_raw[\"category\"])"
   ]
  },
  {
   "cell_type": "code",
   "execution_count": null,
   "metadata": {},
   "outputs": [],
   "source": [
    "print(\"hola\")"
   ]
  },
  {
   "cell_type": "code",
   "execution_count": null,
   "metadata": {},
   "outputs": [],
   "source": []
  }
 ],
 "metadata": {
  "kernelspec": {
   "display_name": "Python 3",
   "language": "python",
   "name": "python3"
  },
  "language_info": {
   "codemirror_mode": {
    "name": "ipython",
    "version": 3
   },
   "file_extension": ".py",
   "mimetype": "text/x-python",
   "name": "python",
   "nbconvert_exporter": "python",
   "pygments_lexer": "ipython3",
   "version": "3.8.5"
  }
 },
 "nbformat": 4,
 "nbformat_minor": 4
}
